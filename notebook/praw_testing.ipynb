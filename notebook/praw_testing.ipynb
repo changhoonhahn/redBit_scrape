{
 "cells": [
  {
   "cell_type": "code",
   "execution_count": 1,
   "metadata": {
    "collapsed": true,
    "deletable": true,
    "editable": true
   },
   "outputs": [],
   "source": [
    "import praw"
   ]
  },
  {
   "cell_type": "code",
   "execution_count": 2,
   "metadata": {
    "collapsed": false,
    "deletable": true,
    "editable": true
   },
   "outputs": [],
   "source": [
    "reddit = praw.Reddit(user_agent=\"testing /u/rebbit_scraper\",\n",
    "                    client_id='hWy0mOCYtovbSQ', client_secret=\"toN7hL43GDVjvWleeY95Fzs2UX4\",\n",
    "                    username='rebbit_scraper', password='RebbitRebbit')"
   ]
  },
  {
   "cell_type": "markdown",
   "metadata": {},
   "source": [
    "10 submissions from the \"hot\" page"
   ]
  },
  {
   "cell_type": "code",
   "execution_count": 3,
   "metadata": {
    "collapsed": false,
    "deletable": true,
    "editable": true
   },
   "outputs": [
    {
     "name": "stdout",
     "output_type": "stream",
     "text": [
      "583 /r/Bitcoin FAQ - Newcomers please read\n",
      "99 Price Thread [June 14, 2017]\n",
      "136 Bitcoin is valuable for two reasons: 1) that Satoshi created it from principle, not greed; and 2) that the core developers maintain if from principle, not greed.\n",
      "115 Should bitcoin.org list wallets those are actively freezing customer accounts?\n",
      "237 Greg Maxwell: \"a hasty snapshot of a few of my views\"\n",
      "874 Coinbase disabled the #FreeRoss account after receiving 16.5 BTC this morning.\n",
      "41 SlushPool stance on @BITMAINtech UAHF plan: \"We won't call such a private blockchain 'the #Bitcoin'\"\n",
      "93 [Bitcoin-segwit2x] segwit2x alpha release code drop\n",
      "46 Using the same technology that makes Bitcoin possible, neighbors are buying and selling renewable energy to each other.\n",
      "32 \"LOL\" is getting more and more popular. The Netherlands' biggest exchange says LOL to SegWit2x and supports BIP148.\n"
     ]
    }
   ],
   "source": [
    "for submission in reddit.subreddit('Bitcoin').hot(limit=10):\n",
    "    print submission.score, submission.title\n",
    "    #print(submission.selftext)\n",
    "    #print(submission.score)"
   ]
  },
  {
   "cell_type": "code",
   "execution_count": 7,
   "metadata": {
    "collapsed": false
   },
   "outputs": [
    {
     "name": "stdout",
     "output_type": "stream",
     "text": [
      "US CONGRESS GOING FULL 1984 ON BITCOIN AND ASSETS\n",
      "Are you saying I can sell my bitcoin for millions someday?\n",
      "Bitcoin just hit US$3000 on Bitfinex!\n",
      "Screw this I'm selling\n",
      "I feel like a war-torn vet in a room full of new recruits.\n",
      "Bitcoin on the cover of The Moscow Times\n",
      "I hate to be the one and saying this\n",
      "Coinbase disabled the #FreeRoss account after receiving 16.5 BTC this morning.\n",
      "Oh come on\n",
      "Why I sold all my ethereum today and converted it all into Bitcoin\n"
     ]
    }
   ],
   "source": [
    "for sub in reddit.subreddit('Bitcoin').top('week', limit=10): \n",
    "    print sub.title"
   ]
  },
  {
   "cell_type": "code",
   "execution_count": 8,
   "metadata": {
    "collapsed": false
   },
   "outputs": [
    {
     "name": "stdout",
     "output_type": "stream",
     "text": [
      "0\n",
      "591 /r/Bitcoin FAQ - Newcomers please read\n",
      "1\n",
      "103 Price Thread [June 14, 2017]\n",
      "2\n",
      "235 Bitcoin is valuable for two reasons: 1) that Satoshi created it from principle, not greed; and 2) that the core developers maintain if from principle, not greed.\n",
      "3\n",
      "73 Coinbase has reopened Free_Ross's account.\n",
      "4\n",
      "76 SlushPool stance on @BITMAINtech UAHF plan: \"We won't call such a private blockchain 'the #Bitcoin'\"\n",
      "5\n",
      "132 Should bitcoin.org list wallets those are actively freezing customer accounts?\n",
      "6\n",
      "251 Greg Maxwell: \"a hasty snapshot of a few of my views\"\n",
      "7\n",
      "896 Coinbase disabled the #FreeRoss account after receiving 16.5 BTC this morning.\n",
      "8\n",
      "49 \"LOL\" is getting more and more popular. The Netherlands' biggest exchange says LOL to SegWit2x and supports BIP148.\n",
      "9\n",
      "111 [Bitcoin-segwit2x] segwit2x alpha release code drop\n"
     ]
    }
   ],
   "source": [
    "for i_sub, sub in enumerate(reddit.subreddit('Bitcoin').hot(limit=10)):\n",
    "    print i_sub\n",
    "    print sub.score, sub.title\n"
   ]
  },
  {
   "cell_type": "code",
   "execution_count": null,
   "metadata": {
    "collapsed": true
   },
   "outputs": [],
   "source": []
  },
  {
   "cell_type": "code",
   "execution_count": null,
   "metadata": {
    "collapsed": true
   },
   "outputs": [],
   "source": []
  }
 ],
 "metadata": {
  "kernelspec": {
   "display_name": "Python 2",
   "language": "python",
   "name": "python2"
  },
  "language_info": {
   "codemirror_mode": {
    "name": "ipython",
    "version": 2
   },
   "file_extension": ".py",
   "mimetype": "text/x-python",
   "name": "python",
   "nbconvert_exporter": "python",
   "pygments_lexer": "ipython2",
   "version": "2.7.9"
  }
 },
 "nbformat": 4,
 "nbformat_minor": 2
}
