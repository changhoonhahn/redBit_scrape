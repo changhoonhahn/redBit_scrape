{
 "cells": [
  {
   "cell_type": "code",
   "execution_count": 18,
   "metadata": {
    "collapsed": true
   },
   "outputs": [],
   "source": [
    "import praw"
   ]
  },
  {
   "cell_type": "code",
   "execution_count": 19,
   "metadata": {
    "collapsed": false
   },
   "outputs": [],
   "source": [
    "reddit = praw.Reddit(user_agent=\"testing /u/rebbit_scraper\",\n",
    "                    client_id='hWy0mOCYtovbSQ', client_secret=\"toN7hL43GDVjvWleeY95Fzs2UX4\",\n",
    "                    username='rebbit_scraper', password='RebbitRebbit')"
   ]
  },
  {
   "cell_type": "code",
   "execution_count": 24,
   "metadata": {
    "collapsed": false
   },
   "outputs": [
    {
     "name": "stdout",
     "output_type": "stream",
     "text": [
      "591 /r/Bitcoin FAQ - Newcomers please read\n",
      "104 Price Thread [June 14, 2017]\n",
      "113 Bitcoin is valuable for two reasons: 1) that Satoshi created it from principle, not greed; and 2) that the core developers maintain if from principle, not greed.\n",
      "233 Greg Maxwell: \"a hasty snapshot of a few of my views\"\n",
      "865 Coinbase disabled the #FreeRoss account after receiving 16.5 BTC this morning.\n",
      "100 Should bitcoin.org list wallets those are actively freezing customer accounts?\n",
      "33 SlushPool stance on @BITMAINtech UAHF plan: \"We won't call such a private blockchain 'the #Bitcoin'\"\n",
      "86 [Bitcoin-segwit2x] segwit2x alpha release code drop\n",
      "48 Using the same technology that makes Bitcoin possible, neighbors are buying and selling renewable energy to each other.\n",
      "348 If a coin split happens...\n"
     ]
    }
   ],
   "source": [
    "for submission in reddit.subreddit('Bitcoin').hot(limit=10):\n",
    "    print submission.score, submission.title\n",
    "    #print(submission.selftext)\n",
    "    #print(submission.score)"
   ]
  },
  {
   "cell_type": "code",
   "execution_count": null,
   "metadata": {
    "collapsed": true
   },
   "outputs": [],
   "source": []
  }
 ],
 "metadata": {
  "kernelspec": {
   "display_name": "Python 2",
   "language": "python",
   "name": "python2"
  },
  "language_info": {
   "codemirror_mode": {
    "name": "ipython",
    "version": 2
   },
   "file_extension": ".py",
   "mimetype": "text/x-python",
   "name": "python",
   "nbconvert_exporter": "python",
   "pygments_lexer": "ipython2",
   "version": "2.7.9"
  }
 },
 "nbformat": 4,
 "nbformat_minor": 2
}
